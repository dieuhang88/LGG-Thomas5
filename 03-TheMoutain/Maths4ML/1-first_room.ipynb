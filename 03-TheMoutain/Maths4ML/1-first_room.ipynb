{
 "cells": [
  {
   "cell_type": "markdown",
   "id": "64bc1cd3",
   "metadata": {},
   "source": [
    "Surrounded by thick roots, the mouth of the cave felt like it came straight from some cheap fantasy novel. Despite the wet heat on this summer day, the sharp gust seeping through the entrance made Yann shiver.\n",
    "\n",
    "![image](images/Cave_Entrance.png)\n",
    "\n",
    "**Yann**: They call it Devil's Sanctuary.\n",
    "\n",
    "**Geoffrey**: Bet you can't even take a step inside. Do it! You won't!\n",
    "\n",
    "**Yann**: I it did already. I do it quite regularly. There's a long tunnel. At the end you'll find plenty of chambers, some even have water all over and dad even told me there was a river monster, in fact I think I heard it growl once. I'd go again no problem, I just don't want to right now.\n",
    "\n",
    "**Geoffrey**: Liar, and a chicken also. I can go farther than you.\n",
    "\n",
    "**Yann**: Bullshit! Last time you lost mom at the grocery store you cried like a little baby.\n",
    "\n",
    "**Geoffrey**: Let's see who's the little baby. Last one to touch the end is a chicken.\n",
    "\n",
    "Geoffrey rushed inside the crack. Yann stayed still. He wouldn't hear the end of it for the rest of his life if he didn't follow. He took a deep breath and entered the cavern hastily. The blinding sunlight made way to pitch blackness. Geoffrey's swift footsteps could still be heard, Yann had to hurry. The cave could not be that deep. Yann was fast, he was going to catch up to his twin brother.\n",
    "\n",
    "The further he went, the wider the tunnel seemed to be getting, but the cave could not be that deep. Geoffrey's running was only a faint tap at this point. Yann had to stop to catch his breath and look around. A white light seemed to glisten at then end of one of the tunnels on his right. Curiosity overtaking fear, he could not resist. The closer he got, the clearer the scene appeared. It was... an old rusty computer screen. On it stood the following:"
   ]
  },
  {
   "cell_type": "code",
   "execution_count": null,
   "id": "81fa2d38",
   "metadata": {},
   "outputs": [],
   "source": [
    "import utils.check\n",
    "\n",
    "utils.check.simple_task()"
   ]
  },
  {
   "cell_type": "markdown",
   "id": "164eaaa9",
   "metadata": {},
   "source": [
    "The entirety of the screen split open down the middle along with the big boulder resting behind it, making way to a central staircase that went inside the earth. Yann took a couple of cautious steps. The boulder slammed back together, there was no way back. Yann was scared and wondered if he had made a mistake. Forward was the only way to go. About one hundred steps down, Yann found himself in front of a strange door.\n",
    "\n",
    "![image](images/Bell_Curve_Door.png)\n",
    "\n",
    "His mere presence made the door open to a square-like room surrounded by torches. Aligned under each torch laid a solar quadrant pointing to midday, slightly dancing in the light of the fire. Some scales hung from the ceiling, each perfectly balanced. In the middle, there was a small stone on which one could find the following engraving:\n",
    "\n",
    "![image](images/Monsters_Stats.png)\n",
    "\n",
    "A monitor identical to the first one which made way to the entrance of the cave was positioned on top on the stone. On it was the following prompt:"
   ]
  },
  {
   "cell_type": "code",
   "execution_count": null,
   "id": "24342fcb",
   "metadata": {},
   "outputs": [],
   "source": [
    "import utils.check\n",
    "\n",
    "utils.check.first_room_hints()"
   ]
  },
  {
   "cell_type": "markdown",
   "id": "7522ac28",
   "metadata": {},
   "source": [
    "The monitor refreshed, this script popped up. What could this all mean? What functions are kill, capture and flee?"
   ]
  },
  {
   "cell_type": "code",
   "execution_count": null,
   "id": "bdc1c60c",
   "metadata": {},
   "outputs": [],
   "source": [
    "import utils.check\n",
    "\n",
    "dragon = 0 #FILL FROM PREVIOUS\n",
    "kraken = 0 #FILL FROM PREVIOUS\n",
    "basilisk = 0 #FILL FROM PREVIOUS\n",
    "\n",
    "def spear(monster):\n",
    "    #FILL\n",
    "    return 0\n",
    "\n",
    "def capture(monster):\n",
    "    #FILL\n",
    "    return 0\n",
    "\n",
    "def flee(monster):\n",
    "    #FILL\n",
    "    return 0\n",
    "\n",
    "print(f\"Spear Dragon: {spear(dragon)}\")\n",
    "print(f\"Capture Kraken: {capture(kraken)}\")\n",
    "print(f\"Flee Basilisk: {flee(basilisk)}\")\n",
    "\n",
    "# Will this output the passcode?\n",
    "utils.check.first_room(spear, capture, flee)"
   ]
  },
  {
   "cell_type": "markdown",
   "id": "bde78611",
   "metadata": {},
   "source": [
    "The lonely monitor sank inside the ground making way to a white marble ladder. We couldn't see the bottom so deep it went. Yann started the descent, eventually it sounded like the monitor came to a halt by touching a bed of pebbles. Following close behind, Yann soon laid his food on solid ground, the crunch of the rocks under his feet felt comforting."
   ]
  }
 ],
 "metadata": {
  "kernelspec": {
   "display_name": "Python 3",
   "language": "python",
   "name": "python3"
  },
  "language_info": {
   "codemirror_mode": {
    "name": "ipython",
    "version": 3
   },
   "file_extension": ".py",
   "mimetype": "text/x-python",
   "name": "python",
   "nbconvert_exporter": "python",
   "pygments_lexer": "ipython3",
   "version": "3.12.3"
  }
 },
 "nbformat": 4,
 "nbformat_minor": 5
}
