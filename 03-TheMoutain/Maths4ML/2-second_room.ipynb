{
 "cells": [
  {
   "cell_type": "markdown",
   "id": "31004816",
   "metadata": {},
   "source": [
    "The new place was a lot damper than the former room.\n",
    "\n",
    "**Yann**: OUCH!\n",
    "\n",
    "Something had just hit his forehead. Yann looked up. Tiny pebbles and droplets were falling all over. The small rocks were slipping through cracks. These fissures spelled out:\n",
    "> \"Mathematics knows no language\"\n",
    "\n",
    "This wasn't the only thing written in the room. On the far side some engravings carved into a peculiar pattern. Drawing closer, Yann could discernate some wikipedia level mathematical notations.\n",
    "\n",
    "![image](images/Sigma_Sign_First.png)\n",
    "\n",
    "The big letter Yann could tell was the capital letter \"Sigma\". But why was it coupled with all these writings? Yann didn't know. The spear and dragon! He knew what it meant... Maybe could he be able to guess what sigma meant from that. The monitor lit up again:"
   ]
  },
  {
   "cell_type": "code",
   "execution_count": null,
   "id": "305073db",
   "metadata": {},
   "outputs": [],
   "source": [
    "import utils.check\n",
    "\n",
    "#IMPLEMENT THE FUNCTION\n",
    "def sigma(arr):\n",
    "    #TODO\n",
    "    return 0\n",
    "\n",
    "utils.check.check_simple_sigma(sigma)"
   ]
  },
  {
   "cell_type": "markdown",
   "id": "99601486",
   "metadata": {},
   "source": [
    "The screen flickered for a couple of seconds..."
   ]
  },
  {
   "cell_type": "code",
   "execution_count": null,
   "id": "653c4e4f",
   "metadata": {},
   "outputs": [],
   "source": [
    "#Explaining the Sigma notation (input previous passcode)\n",
    "utils.check.explain_sigma()"
   ]
  },
  {
   "cell_type": "code",
   "execution_count": null,
   "id": "f5ecd03e",
   "metadata": {},
   "outputs": [],
   "source": []
  }
 ],
 "metadata": {
  "kernelspec": {
   "display_name": "Python 3",
   "language": "python",
   "name": "python3"
  },
  "language_info": {
   "codemirror_mode": {
    "name": "ipython",
    "version": 3
   },
   "file_extension": ".py",
   "mimetype": "text/x-python",
   "name": "python",
   "nbconvert_exporter": "python",
   "pygments_lexer": "ipython3",
   "version": "3.12.3"
  }
 },
 "nbformat": 4,
 "nbformat_minor": 5
}
