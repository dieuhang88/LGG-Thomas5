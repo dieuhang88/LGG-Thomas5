{
 "cells": [
  {
   "cell_type": "markdown",
   "id": "638f392b",
   "metadata": {},
   "source": [
    "A stairway unravelled behind him. The steps seemed to be heading back up. Yann had to be careful to not get hurt by more of the falling pebbles during the ascension. The rumble was going stronger. Rocks were flying by left and right. They were different colors?! Some were red, some were blue. Once up the stairs he found himself in front of a passageway, crowned by little alcoves lit by a blueish hue.\n",
    "\n",
    "![image](images/Blue_Alcoves.png)\n",
    "\n",
    "\n",
    "The monitor popped inside the alcove to his left, on it's screen some new code cells. Little blue and red rocks were falling from a crack at the top to the bottom flat stone. Were there more red or blue pebbles falling? He could not tell. Let's count them..."
   ]
  },
  {
   "cell_type": "code",
   "execution_count": null,
   "id": "2d3a055b",
   "metadata": {},
   "outputs": [],
   "source": [
    "import utils.check\n",
    "\n",
    "pebble_pile=[]"
   ]
  },
  {
   "cell_type": "code",
   "execution_count": null,
   "id": "8bb4bbe6",
   "metadata": {},
   "outputs": [],
   "source": [
    "pebble_pile.append(utils.check.pebble_fall())\n",
    "\n",
    "utils.check.plot_pebbles(pebble_pile)"
   ]
  },
  {
   "cell_type": "markdown",
   "id": "10a62958",
   "metadata": {},
   "source": [
    "The poem on the wall read:\n",
    "\n",
    "<div align=\"center\">\n",
    "\n",
    "*“Among twenty stones of red and blue,*  \n",
    "*How many reds must there be in view,*  \n",
    "*To state with ninety-five percent confidence,*  \n",
    "*That red holds greater likelihood by evidence?*  \n",
    "\n",
    "*And if you enter the password with care,*  \n",
    "*A code will appear, subtle and rare—*  \n",
    "*Not as an answer, but as a key,*  \n",
    "*To guide your reflection intuitively.”*  \n",
    "\n",
    "— *ChatGPT*\n",
    "\n",
    "</div>"
   ]
  },
  {
   "cell_type": "code",
   "execution_count": null,
   "id": "caabb09f",
   "metadata": {},
   "outputs": [],
   "source": [
    "utils.check.unlock_code_room3()"
   ]
  },
  {
   "cell_type": "code",
   "execution_count": null,
   "id": "51f45bef",
   "metadata": {},
   "outputs": [],
   "source": []
  },
  {
   "cell_type": "markdown",
   "id": "1843da51",
   "metadata": {},
   "source": [
    "Seeing the distribution taking shape left Yann in awe. But how could he use it to determine:\n",
    "\n",
    "*How many reds must there be in view,*  \n",
    "*To state with ninety-five percent confidence,*  \n",
    "*That red holds greater likelihood by evidence?*\n",
    "\n",
    "What can this even mean? The monitor refreshed to show the following code:"
   ]
  },
  {
   "cell_type": "code",
   "execution_count": null,
   "id": "c7924944",
   "metadata": {},
   "outputs": [],
   "source": [
    "red_counts = np.random.binomial(n=20, p=0.5, size=100000)\n",
    "bins=np.bincount(red_counts)\n",
    "\n",
    "\n",
    "nb_reds=15\n",
    "likelihood_above_x=sum(bins[nb_reds:]/sum(bins))\n",
    "\n",
    "print(f\"Probability of getting more than {nb_reds} or more red pebbles out of 20 at random is {likelihood_above_x*100:.3}% if the red-blue pick chance is 50-50.\")"
   ]
  },
  {
   "cell_type": "code",
   "execution_count": null,
   "id": "bde00840",
   "metadata": {},
   "outputs": [],
   "source": [
    "utils.check.how_many_reds()"
   ]
  }
 ],
 "metadata": {
  "kernelspec": {
   "display_name": "Python 3",
   "language": "python",
   "name": "python3"
  },
  "language_info": {
   "codemirror_mode": {
    "name": "ipython",
    "version": 3
   },
   "file_extension": ".py",
   "mimetype": "text/x-python",
   "name": "python",
   "nbconvert_exporter": "python",
   "pygments_lexer": "ipython3",
   "version": "3.12.3"
  }
 },
 "nbformat": 4,
 "nbformat_minor": 5
}
