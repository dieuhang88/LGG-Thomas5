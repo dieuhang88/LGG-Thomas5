{
 "cells": [
  {
   "cell_type": "markdown",
   "metadata": {},
   "source": [
    "# Embedding\n",
    "\n",
    "## Why Embedding?\n",
    "As we know, machines can't handle text, it can only handle numbers. But how to convert a word to numbers?\n",
    "\n",
    "The most naive approach would be to take a list of all the words in your text and attribute a number to all of them. It will work but you can imagine that some problems will appear:\n",
    "* How do you handle unknown words? \n",
    "* If your text contains `doctor`, `nurse`, and `candy`. `doctor` and `nurse` have a strong similarity but `candy` doesn't. How can we make the machine understand that? With our naive technique, `doctor` could have the number `5` associated to it and nurse the number `98767`.\n",
    "\n",
    "Of course, a lot of people already spent some time with those problems. the solution that came out of it is \"Embedding\". \n",
    "\n",
    "## What is embeddings?\n",
    "\n",
    "An embedding is a **VECTOR** which represents a word or a document.\n",
    "\n",
    "A vector will be attributed to each token. Each vector will contain multiple dimensions (usually tens or hundreds of dimensions).\n",
    "\n",
    "```\n",
    "[...] associate with each word in the vocabulary a distributed word feature vector [...] The feature vector represents different aspects of the word: each word is associated with a point in a vector space. The number of features [...] is much smaller than the size of the vocabulary.\n",
    "```\n",
    "- [A Neural Probabilistic Language Model](https://www.jmlr.org/papers/volume3/bengio03a/bengio03a.pdf), 2003.\n",
    "\n",
    "Long story short, embeddings convert words into vectors in a way that allows the machine to understand the similarity betweens them.\n",
    "\n",
    "Each embedding library has it's own way of classifying words, it will regroup words into big categories. Each word will get a score for each category.\n",
    "\n",
    "To take a simple example the word `mother` could be classified like that:\n",
    "\n",
    "|        | female | family | human | animal|\n",
    "|--------|--------|---------|-------|-------|\n",
    "| mother | 0.9    | 0.9.    | 0.7   | 0.1   |\n",
    "\n",
    "**Explanations:** Mother has a strong similarity with female, family and human but it has a low similarity with animal.\n",
    "\n",
    "**Disclaimer:** Those numbers and categories are totally arbitrary and are only here to show an example.\n",
    "\n",
    "Here is another example with more complete datas:\n",
    "\n",
    "![embedding](https://miro.medium.com/max/2598/1*sAJdxEsDjsPMioHyzlN3_A.png)\n",
    "\n",
    "## Should I do it by hand?\n",
    "\n",
    "You could, but if some people already did the job for you and spent a lot of time to optimize it, why not use it?\n",
    "\n",
    "## What to use?\n",
    "\n",
    "There are a lot of libraries out there for embeddings. Which one is the best? Once again, *it depends*. The results will change depending on the text you are using, the information you want to extract, the model you use,...\n",
    "\n",
    "Choosing the \"best\" embedding model will be part of the hyper-optimization that you can do at the end of a project.\n",
    "\n",
    "If you want understand embeddings more in depth, [follow this link](http://jalammar.github.io/illustrated-word2vec/) or watch this [video](https://www.youtube.com/watch?v=gQddtTdmG_8).\n",
    "\n",
    "Here are some of the best libraries:\n",
    "\n",
    "* [Gensim](https://pypi.org/project/gensim/)\n",
    "* [Word2Vec](https://www.tensorflow.org/tutorials/text/word2vec)\n",
    "\n",
    "This next bit of code loads a model for practice"
   ]
  },
  {
   "cell_type": "code",
   "execution_count": null,
   "metadata": {},
   "outputs": [
    {
     "name": "stdout",
     "output_type": "stream",
     "text": [
      "Downloading model...\n",
      "[==================================================] 100.0% 376.1/376.1MB downloaded\n",
      "Model downloaded and saved.\n"
     ]
    }
   ],
   "source": [
    "import os #  to check if files exist on disk.\n",
    "import gensim.downloader as api #  allows downloading pretrained NLP models.\n",
    "from gensim.models import KeyedVectors #  KeyedVectors is used to handle word vectors.\n",
    "# This script checks if a pretrained GloVe model exists locally, and if not, downloads it.\n",
    "import math\n",
    "import numpy as np\n",
    "\n",
    "# Path where you want to store/load the model\n",
    "model_path = \"glove-wiki-gigaword-300.kv\"\n",
    "\n",
    "# Load model from disk if exists, else download and save it\n",
    "if os.path.exists(model_path):\n",
    "    print(\"Loading model from local file...\")\n",
    "    model = KeyedVectors.load(\"data/\"+model_path)\n",
    "else:\n",
    "    print(\"Downloading model...\")\n",
    "    model = api.load(model_path[:-3])\n",
    "    model.save(\"data/\"+model_path)\n",
    "    print(\"Model downloaded and saved.\")"
   ]
  },
  {
   "cell_type": "markdown",
   "metadata": {},
   "source": [
    "## Practice time!\n",
    "\n",
    "Enough reading, let's practice a bit. On this sentence:"
   ]
  },
  {
   "cell_type": "code",
   "execution_count": 3,
   "metadata": {},
   "outputs": [],
   "source": [
    "sentence = \"I love learning\""
   ]
  },
  {
   "cell_type": "markdown",
   "metadata": {},
   "source": [
    "What do the word vectors look like? What is their size? What is their [magnitude](https://numpy.org/doc/2.1/reference/generated/numpy.linalg.norm.html)?"
   ]
  },
  {
   "cell_type": "code",
   "execution_count": 4,
   "metadata": {},
   "outputs": [
    {
     "name": "stdout",
     "output_type": "stream",
     "text": [
      "Word: i\n",
      "Vector (first 10 values): [-0.13292   0.16985  -0.1436   -0.088722  0.07951  -0.14212  -0.024209\n",
      " -0.26291  -0.074814 -2.36    ]\n",
      "Vector size: 300\n",
      "Magnitude: 6.9177\n",
      "----------------------------------------\n",
      "Word: love\n",
      "Vector (first 10 values): [-0.45205  -0.33122  -0.063607  0.028325 -0.21372   0.16839  -0.017186\n",
      "  0.047309 -0.052355 -0.98706 ]\n",
      "Vector size: 300\n",
      "Magnitude: 6.1361\n",
      "----------------------------------------\n",
      "Word: learning\n",
      "Vector (first 10 values): [-0.38732   -0.32467    0.22053   -0.12059   -0.14239    0.0017644\n",
      "  0.047267  -0.10137    0.01616   -1.4371   ]\n",
      "Vector size: 300\n",
      "Magnitude: 5.9555\n",
      "----------------------------------------\n"
     ]
    }
   ],
   "source": [
    "words = sentence.lower().split()  # Convert to lowercase and split\n",
    "\n",
    "# Loop through each word\n",
    "for word in words:\n",
    "    if word in model:\n",
    "        vector = model[word]  # Get the word vector\n",
    "        magnitude = np.linalg.norm(vector)  # Calculate the magnitude (Euclidean norm)\n",
    "        print(f\"Word: {word}\")\n",
    "        print(f\"Vector (first 10 values): {vector[:10]}\")  # Preview first 10 values\n",
    "        print(f\"Vector size: {vector.shape[0]}\")  # Should be 300 for GloVe\n",
    "        print(f\"Magnitude: {magnitude:.4f}\")\n",
    "        print(\"-\" * 40)\n",
    "    else:\n",
    "        print(f\"Word '{word}' not in vocabulary.\")"
   ]
  },
  {
   "cell_type": "markdown",
   "metadata": {},
   "source": [
    "Notes by me: \n",
    "### the magnitude can give some subtle signals like:\n",
    "\n",
    "- How frequent or important a word might be in the corpus\n",
    "\n",
    "- Sometimes used in normalization or to detect outliers\n",
    "\n",
    "- May vary slightly depending on training method\n",
    "\n",
    "Checking magnitude is helpful for: Debugging embeddings, Understanding frequency patterns, Deciding whether to normalize vectors\n",
    "\n",
    "*** Cosine similarity (angle between vectors) is more important for comparing meanings.\n",
    "\n"
   ]
  },
  {
   "cell_type": "markdown",
   "metadata": {},
   "source": [
    "## Maths on text\n",
    "\n",
    "Since the words are embedded into vectors we can now apply mathematical methods on them.\n",
    "\n",
    "### Average vector\n",
    "\n",
    "For example we could build the average vector for a text by using NumPy! This is a straightforward way to build one single representation for a text.\n",
    "\n",
    "- Apply a gensim model on the text\n",
    "- Get all word vectors into a list\n",
    "- Compute and display the average vector of the list\n",
    "- Get it's representation using the gensim most_similar method"
   ]
  },
  {
   "cell_type": "code",
   "execution_count": null,
   "metadata": {},
   "outputs": [
    {
     "name": "stdout",
     "output_type": "stream",
     "text": [
      "Average Vector (first 10 dims): [-0.06724676  0.11244775 -0.07715999 -0.16942851 -0.05581862 -0.09414901\n",
      " -0.05271751 -0.16359037  0.1710469  -1.7930238 ]\n",
      "\n",
      "Words most similar to the average meaning of the sentence:\n",
      "so              : 0.7829\n",
      "not             : 0.7720\n",
      "you             : 0.7669\n",
      "n't             : 0.7651\n",
      "this            : 0.7642\n"
     ]
    }
   ],
   "source": [
    "text = \"I want to be a famous data scientist\"\n",
    "\n",
    "# Your code here\n",
    "# Tokenize (simple whitespace split and lowercase)\n",
    "tokens = text.lower().split()\n",
    "\n",
    "# Extract vectors for words that exist in the model\n",
    "vectors = [model[word] for word in tokens if word in model]\n",
    "\n",
    "# Check that we have at least one vector\n",
    "if vectors:\n",
    "    # Compute the average vector\n",
    "    avg_vector = np.mean(vectors, axis=0)\n",
    "\n",
    "    # Display the vector (first 10 values for readability)\n",
    "    print(\"Average Vector (first 10 dims):\", avg_vector[:10])\n",
    "\n",
    "    # Find top 5 words most similar to this average vector\n",
    "    similar_words = model.similar_by_vector(avg_vector, topn=5)\n",
    "    print(\"\\nWords most similar to the average meaning of the sentence:\")\n",
    "    for word, score in similar_words:\n",
    "        print(f\"{word:15} : {score:.4f}\")\n",
    "else:\n",
    "    print(\"No known words from the model found in the sentence.\")\n",
    "\n"
   ]
  },
  {
   "cell_type": "code",
   "execution_count": null,
   "metadata": {},
   "outputs": [
    {
     "name": "stdout",
     "output_type": "stream",
     "text": [
      "[('data', 0.7441316843032837), ('science', 0.7414958477020264), ('future', 0.6801506280899048), ('research', 0.6670560240745544), ('technology', 0.6657642722129822)]\n"
     ]
    }
   ],
   "source": [
    "# test\n",
    "import gensim.downloader as api\n",
    "import numpy as np\n",
    "\n",
    "model = api.load(\"glove-wiki-gigaword-300\")\n",
    "\n",
    "words = [\"data\", \"science\", \"future\"]\n",
    "vectors = [model[w] for w in words if w in model]\n",
    "avg_vector = np.mean(vectors, axis=0)\n",
    "\n",
    "print(model.similar_by_vector(avg_vector, topn=5))"
   ]
  },
  {
   "cell_type": "markdown",
   "metadata": {},
   "source": [
    "### Word similarity\n",
    "\n",
    "We can also compute the similarity between two words by using distance measures (e.g. [cosine similarity](https://scikit-learn.org/stable/modules/generated/sklearn.metrics.pairwise.cosine_similarity.html), [euclidean distance](https://scikit-learn.org/stable/modules/generated/sklearn.metrics.pairwise.euclidean_distances.html)...). These measures will calculate the distance between word embeddings in the vector space.\n",
    "\n",
    "Identify what fundamental difference there is between these two metrics when it comes to assessissing similarity between vectors.\n",
    "\n",
    "#### Let's practice!\n",
    "\n",
    "- Compute the cosine and the euclidean distance between those 4 words in a similarity table visualizing it with matplotlib and/or seaborn\n",
    "- Assess which words are the most similar and the most dissimilar"
   ]
  },
  {
   "cell_type": "code",
   "execution_count": null,
   "metadata": {},
   "outputs": [],
   "source": []
  },
  {
   "cell_type": "code",
   "execution_count": 2,
   "metadata": {},
   "outputs": [
    {
     "data": {
      "image/png": "[encoded data removed]",
      "text/plain": [
       "<Figure size 800x600 with 2 Axes>"
      ]
     },
     "metadata": {},
     "output_type": "display_data"
    },
    {
     "data": {
      "image/png": "[encoded data removed]",
      "text/plain": [
       "<Figure size 800x600 with 2 Axes>"
      ]
     },
     "metadata": {},
     "output_type": "display_data"
    }
   ],
   "source": [
    "words = [\"computer\",\"keyboard\",\"water\",\"ocean\"]\n",
    "\n",
    "#Your code here\n",
    "import gensim.downloader as api\n",
    "import numpy as np\n",
    "import seaborn as sns\n",
    "import matplotlib.pyplot as plt\n",
    "from sklearn.metrics.pairwise import cosine_similarity, euclidean_distances\n",
    "\n",
    "# Load pre-trained model (GloVe vectors)\n",
    "model = api.load(\"glove-wiki-gigaword-300\")\n",
    "\n",
    "# List of words to compare\n",
    "words = [\"computer\", \"keyboard\", \"water\", \"ocean\"]\n",
    "\n",
    "# Get word vectors\n",
    "vectors = [model[word] for word in words]\n",
    "\n",
    "# Compute cosine similarity matrix\n",
    "cos_sim_matrix = cosine_similarity(vectors)\n",
    "\n",
    "# Compute Euclidean distance matrix\n",
    "eucl_dist_matrix = euclidean_distances(vectors)\n",
    "\n",
    "# Convert to numpy arrays for nicer labels in seaborn\n",
    "cos_sim_matrix = np.round(cos_sim_matrix, 3)\n",
    "eucl_dist_matrix = np.round(eucl_dist_matrix, 3)\n",
    "\n",
    "# --- Visualization ---\n",
    "\n",
    "# Cosine similarity heatmap\n",
    "plt.figure(figsize=(8, 6))\n",
    "sns.heatmap(cos_sim_matrix, xticklabels=words, yticklabels=words, annot=True, cmap=\"YlGnBu\")\n",
    "plt.title(\"Cosine Similarity Between Words\")\n",
    "plt.show()\n",
    "\n",
    "# Euclidean distance heatmap\n",
    "plt.figure(figsize=(8, 6))\n",
    "sns.heatmap(eucl_dist_matrix, xticklabels=words, yticklabels=words, annot=True, cmap=\"Reds\")\n",
    "plt.title(\"Euclidean Distance Between Words\")\n",
    "plt.show()"
   ]
  },
  {
   "cell_type": "markdown",
   "metadata": {},
   "source": [
    "Notes by me: \n",
    "\n",
    "- Cosine Similarity\t1 = very similar, 0 = unrelated, -1 = opposite direction\n",
    "- Euclidean Distance\t0 = identical, larger = more distant (in terms of vector magnitude)"
   ]
  },
  {
   "cell_type": "markdown",
   "metadata": {},
   "source": [
    "## Combining things together\n",
    "\n",
    "This next bit of code uses the gensim library to allow you to perform arithmetic operations on vectors. Things you may want to try:\n",
    "\n",
    "Silly additions:\n",
    " - man + hair\n",
    "\n",
    "Checking for some more abstractions:\n",
    " - hair - woman + man\n",
    " - mice - home + city\n",
    " - children - child + goose\n",
    " - paris - france + belgium\n",
    " - triceratops - deer + wolf\n",
    "\n",
    "Bonus points if you can make a function which takes any form of addition and substraction calculations on word vectors."
   ]
  },
  {
   "cell_type": "code",
   "execution_count": null,
   "metadata": {},
   "outputs": [
    {
     "name": "stdout",
     "output_type": "stream",
     "text": [
      "'king' - 'man' + 'woman' = 'queen'\n",
      "'mice' + 'city' - 'home' = 'rats'\n",
      "'hung' + 'leuven' - 'hang' = 'katholieke'\n"
     ]
    }
   ],
   "source": [
    "equals=model.most_similar(positive=['king', 'woman'], negative=['man'])[0][0]\n",
    "print(f\"'king' - 'man' + 'woman' = '{equals}'\")\n",
    "\n",
    "#THE REST OF YOUR CODE HERE"
   ]
  },
  {
   "cell_type": "markdown",
   "metadata": {},
   "source": [
    "When you play with these examples (or others). You quickly notice both the powerful levels of abstraction and the gaping limitations."
   ]
  },
  {
   "cell_type": "markdown",
   "metadata": {},
   "source": [
    "## More resources\n",
    "* [Why do we use word embeddings in NLP?](https://towardsdatascience.com/why-do-we-use-embeddings-in-nlp-2f20e1b632d2)\n",
    "* [More details on what word embeddings are exactly?](https://www.analyticsvidhya.com/blog/2017/06/word-embeddings-count-word2veec/)"
   ]
  }
 ],
 "metadata": {
  "kernelspec": {
   "display_name": "base",
   "language": "python",
   "name": "python3"
  },
  "language_info": {
   "codemirror_mode": {
    "name": "ipython",
    "version": 3
   },
   "file_extension": ".py",
   "mimetype": "text/x-python",
   "name": "python",
   "nbconvert_exporter": "python",
   "pygments_lexer": "ipython3",
   "version": "3.11.7"
  }
 },
 "nbformat": 4,
 "nbformat_minor": 2
}
