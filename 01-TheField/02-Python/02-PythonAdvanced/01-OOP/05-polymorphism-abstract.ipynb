{
 "cells": [
  {
   "cell_type": "markdown",
   "metadata": {},
   "source": [
    "## Polymorphism\n",
    "\n",
    "Polymorphism in Python allows objects of different classes to be treated as objects of a common base class.\n",
    "It enables the use of a single interface for different data types or classes. There are several types of polymorphism in Python:\n",
    "\n",
    "- Function Polymorphism: Python's built-in functions like len() can work with different data types\n",
    "- Class Polymorphism: Different classes can have methods with the same name\n",
    "- Inheritance-based Polymorphism: Child classes can override methods from parent classes\n",
    "\n",
    "Example of class polymorphism:"
   ]
  },
  {
   "cell_type": "code",
   "execution_count": null,
   "metadata": {},
   "outputs": [
    {
     "name": "stdout",
     "output_type": "stream",
     "text": [
      "Drive!\n",
      "Sail!\n",
      "Fly!\n"
     ]
    }
   ],
   "source": [
    "class Car:\n",
    "    def move(self):\n",
    "        print(\"Drive!\")\n",
    "\n",
    "class Boat:\n",
    "    def move(self):\n",
    "        print(\"Sail!\")\n",
    "\n",
    "class Plane:\n",
    "    def move(self):\n",
    "        print(\"Fly!\")\n",
    "\n",
    "for vehicle in (Car(), Boat(), Plane()):\n",
    "    vehicle.move()\n"
   ]
  },
  {
   "cell_type": "markdown",
   "metadata": {},
   "source": [
    "\n",
    "#### Basic Method Overriding\n",
    "\n",
    "Create a base class Animal with a method make_sound(). Then create subclasses Dog, Cat, and Cow that override this method. Demonstrate polymorphism by calling make_sound() on different animal objects."
   ]
  },
  {
   "cell_type": "code",
   "execution_count": 1,
   "metadata": {},
   "outputs": [
    {
     "name": "stdout",
     "output_type": "stream",
     "text": [
      "Woof!\n",
      "Meow!\n",
      "Moo!\n"
     ]
    }
   ],
   "source": [
    "class Animal:\n",
    "    def make_sound(self):\n",
    "        pass\n",
    "\n",
    "# Implement Dog, Cat, and Cow classes here\n",
    "class Dog(Animal):\n",
    "    def make_sound(self):\n",
    "        print(\"Woof!\")\n",
    "    \n",
    "\n",
    "class Cat(Animal):\n",
    "    def make_sound(self):\n",
    "        print(\"Meow!\")\n",
    "\n",
    "class Cow(Animal):\n",
    "    def make_sound(self):\n",
    "        print(\"Moo!\")\n",
    "\n",
    "\n",
    "# Create a list of animals and make them all sound off\n",
    "animals = [Dog(), Cat(), Cow()]\n",
    "for animal in animals:\n",
    "    animal.make_sound()"
   ]
  },
  {
   "cell_type": "markdown",
   "metadata": {},
   "source": [
    "\n",
    "#### Employee Salary Calculator\n",
    "\n",
    "Create a base class Employee with a method calculate_salary(). Implement subclasses FullTimeEmployee, PartTimeEmployee, and Contractor, each with its own salary calculation logic. Use polymorphism to calculate salaries for different types of employees."
   ]
  },
  {
   "cell_type": "code",
   "execution_count": 2,
   "metadata": {},
   "outputs": [
    {
     "name": "stdout",
     "output_type": "stream",
     "text": [
      "Alice's salary is: 50000\n",
      "Bob's salary is: 30000\n",
      "Charlie's salary is: 40000\n"
     ]
    }
   ],
   "source": [
    "class Employee:\n",
    "    def __init__(self, name):\n",
    "        self.name = name\n",
    "\n",
    "    def calculate_salary(self):\n",
    "        pass\n",
    "\n",
    "# Implement FullTimeEmployee, PartTimeEmployee, and Contractor classes here\n",
    "class FullTimeEmployee(Employee):\n",
    "    def calculate_salary(self):\n",
    "        return 50000  \n",
    "    \n",
    "class PartTimeEmployee(Employee):\n",
    "    def calculate_salary(self):\n",
    "        return 30000\n",
    "\n",
    "class Contractor(Employee):\n",
    "    def calculate_salary(self):\n",
    "        return 40000\n",
    "# Create a list of employees and calculate their salaries\n",
    "employees = [FullTimeEmployee(\"Alice\"), PartTimeEmployee(\"Bob\"), Contractor(\"Charlie\")] \n",
    "for employee in employees:\n",
    "    print(f\"{employee.name}'s salary is: {employee.calculate_salary()}\")\n"
   ]
  },
  {
   "cell_type": "code",
   "execution_count": 1,
   "metadata": {},
   "outputs": [
    {
     "name": "stdout",
     "output_type": "stream",
     "text": [
      "Alice's salary is: 50000\n",
      "Bob's salary is: 30000\n",
      "Charlie's salary is: 40000\n"
     ]
    }
   ],
   "source": [
    "class Employee:\n",
    "    def __init__(self, name):\n",
    "        self.name = name\n",
    "\n",
    "    def calculate_salary(self):\n",
    "        pass\n",
    "\n",
    "class FullTimeEmployee(Employee):\n",
    "    def __init__(self, name, salary = 50000):\n",
    "        super().__init__(name)\n",
    "        self.salary = salary\n",
    "    def calculate_salary(self):\n",
    "        return self.salary\n",
    "    \n",
    "class PartTimeEmployee(Employee):\n",
    "    def __init__(self, name, salary = 30000):\n",
    "        super().__init__(name)\n",
    "        self.salary = salary\n",
    " \n",
    "    \n",
    "    def calculate_salary(self):\n",
    "        return self.salary\n",
    "    \n",
    "class Contractor(Employee):\n",
    "    def __init__(self, name, salary = 40000):\n",
    "        super().__init__(name)\n",
    "        self.salary = salary\n",
    "    def calculate_salary(self):\n",
    "        return self.salary\n",
    "    \n",
    "# Create a list of employees and calculate their salaries\n",
    "employees = [FullTimeEmployee(\"Alice\"), PartTimeEmployee(\"Bob\"), Contractor(\"Charlie\")]\n",
    "for employee in employees:\n",
    "    print(f\"{employee.name}'s salary is: {employee.calculate_salary()}\")\n",
    "\n"
   ]
  },
  {
   "cell_type": "markdown",
   "metadata": {},
   "source": [
    "#### Abstract methods\n",
    "\n",
    "Abstract methods in Python are methods declared in an abstract class but lack implementation. They serve as a blueprint for subclasses, requiring them to provide specific implementations. \n",
    "\n",
    "Abstract methods are defined using the @abstractmethod decorator from the abc module. They are typically part of an abstract base class (ABC)\n",
    "\n",
    "##### Usage and Utility\n",
    "\n",
    "- Enforcing Interface: Abstract methods ensure that subclasses implement required methods, creating a consistent interface\n",
    "- Code Reusability: They promote code reuse by defining a common structure for related classes\n",
    "- Polymorphism: Abstract methods enable polymorphic behavior, allowing different subclasses to provide their own implementations\n",
    "- Encapsulation: They help encapsulate implementation details while exposing a clear interface\n",
    "\n",
    "##### When to Use Abstract Methods\n",
    "Use abstract methods in the following scenarios:\n",
    "\n",
    "- API Design: When designing APIs that require specific interfaces to be implemented\n",
    "- Plugin Architecture: For creating extensible systems where plugins need to adhere to a defined interface\n",
    "- Domain Modeling: When modeling complex domains and ensuring certain methods are implemented across all classes in the domain\n",
    "- Framework Development: To provide a structure for developers to extend and customize functionality\n",
    "- Standardization: When you want to enforce a standard set of methods across multiple related classes\n",
    "\n",
    "Abstract methods are powerful tools for creating flexible, maintainable, and extensible code in Python. They help define clear contracts between base classes and their subclasses, ensuring consistent behavior across class hierarchies"
   ]
  },
  {
   "cell_type": "markdown",
   "metadata": {},
   "source": [
    "\n",
    "#### Shape Area Calculator\n",
    "\n",
    "Create an abstract base class Shape with an abstract method area(). Implement concrete classes Circle, Rectangle, and Triangle that inherit from Shape. Use polymorphism to calculate and print the areas of different shapes."
   ]
  },
  {
   "cell_type": "code",
   "execution_count": 2,
   "metadata": {},
   "outputs": [
    {
     "name": "stdout",
     "output_type": "stream",
     "text": [
      "Area: 78.53981633974483\n",
      "Area: 200\n",
      "Area: 25.0\n"
     ]
    }
   ],
   "source": [
    "from abc import ABC, abstractmethod\n",
    "import math\n",
    "\n",
    "class Shape(ABC):\n",
    "    @abstractmethod\n",
    "    def area(self):\n",
    "        pass\n",
    "\n",
    "# Implement Circle, Rectangle, and Triangle classes here\n",
    "class Circle(Shape):\n",
    "    def __init__(self, radius):\n",
    "        self.radius = radius\n",
    "\n",
    "    def area(self):\n",
    "        return math.pi * (self.radius ** 2)\n",
    "\n",
    "class Rectangle(Shape):\n",
    "    def __init__(self, width, height):\n",
    "        self.width = width\n",
    "        self.height = height\n",
    "\n",
    "    def area(self):\n",
    "        return self.width * self.height\n",
    "    \n",
    "class Triangle(Shape):\n",
    "    def __init__(self, base, height):\n",
    "        self.base = base\n",
    "        self.height = height\n",
    "    \n",
    "    def area(self):\n",
    "        return 0.5 * self.base * self.height\n",
    "\n",
    "# Create a list of shapes and calculate their areas\n",
    "shapes = [Circle(5), Rectangle(10, 20), Triangle(10, 5)]\n",
    "for shape in shapes:\n",
    "    print(f\"Area: {shape.area()}\")\n"
   ]
  },
  {
   "cell_type": "markdown",
   "metadata": {},
   "source": [
    "\n",
    "#### File Processor\n",
    "\n",
    "Create an abstract base class FileProcessor with methods read_file() and process_data(). Implement concrete classes for different file types (e.g., CSVProcessor, JSONProcessor, XMLProcessor). Use polymorphism to read and process data from different file formats. "
   ]
  },
  {
   "cell_type": "code",
   "execution_count": 13,
   "metadata": {},
   "outputs": [
    {
     "ename": "FileNotFoundError",
     "evalue": "[Errno 2] No such file or directory: 'data.csv'",
     "output_type": "error",
     "traceback": [
      "\u001b[31m---------------------------------------------------------------------------\u001b[39m",
      "\u001b[31mFileNotFoundError\u001b[39m                         Traceback (most recent call last)",
      "\u001b[36mCell\u001b[39m\u001b[36m \u001b[39m\u001b[32mIn[13]\u001b[39m\u001b[32m, line 50\u001b[39m\n\u001b[32m     48\u001b[39m \u001b[38;5;28;01mfor\u001b[39;00m processor \u001b[38;5;129;01min\u001b[39;00m file_processors:   \n\u001b[32m     49\u001b[39m     filename = filenames[processor.\u001b[34m__class__\u001b[39m.\u001b[34m__name__\u001b[39m] \u001b[38;5;66;03m# Example filename\u001b[39;00m\n\u001b[32m---> \u001b[39m\u001b[32m50\u001b[39m     data = \u001b[43mprocessor\u001b[49m\u001b[43m.\u001b[49m\u001b[43mread_file\u001b[49m\u001b[43m(\u001b[49m\u001b[43mfilename\u001b[49m\u001b[43m)\u001b[49m\n\u001b[32m     51\u001b[39m     processed_data = processor.process_data(data)\n\u001b[32m     52\u001b[39m     \u001b[38;5;28mprint\u001b[39m(\u001b[33mf\u001b[39m\u001b[33m\"\u001b[39m\u001b[33mProcessed data from \u001b[39m\u001b[38;5;132;01m{\u001b[39;00mfilename\u001b[38;5;132;01m}\u001b[39;00m\u001b[33m: \u001b[39m\u001b[38;5;132;01m{\u001b[39;00mprocessed_data\u001b[38;5;132;01m}\u001b[39;00m\u001b[33m\"\u001b[39m)\n",
      "\u001b[36mCell\u001b[39m\u001b[36m \u001b[39m\u001b[32mIn[13]\u001b[39m\u001b[32m, line 18\u001b[39m, in \u001b[36mCSVProcessor.read_file\u001b[39m\u001b[34m(self, filename)\u001b[39m\n\u001b[32m     17\u001b[39m \u001b[38;5;28;01mdef\u001b[39;00m\u001b[38;5;250m \u001b[39m\u001b[34mread_file\u001b[39m(\u001b[38;5;28mself\u001b[39m, filename):\n\u001b[32m---> \u001b[39m\u001b[32m18\u001b[39m     \u001b[38;5;28;01mwith\u001b[39;00m \u001b[38;5;28;43mopen\u001b[39;49m\u001b[43m(\u001b[49m\u001b[43mfilename\u001b[49m\u001b[43m,\u001b[49m\u001b[43m \u001b[49m\u001b[43mnewline\u001b[49m\u001b[43m=\u001b[49m\u001b[33;43m'\u001b[39;49m\u001b[33;43m'\u001b[39;49m\u001b[43m,\u001b[49m\u001b[43m \u001b[49m\u001b[43mencoding\u001b[49m\u001b[43m=\u001b[49m\u001b[33;43m'\u001b[39;49m\u001b[33;43mutf-8\u001b[39;49m\u001b[33;43m'\u001b[39;49m\u001b[43m)\u001b[49m \u001b[38;5;28;01mas\u001b[39;00m file:\n\u001b[32m     19\u001b[39m         \u001b[38;5;28;01mreturn\u001b[39;00m \u001b[38;5;28mlist\u001b[39m(csv.readlines())\n",
      "\u001b[36mFile \u001b[39m\u001b[32m~\\AppData\\Local\\Packages\\PythonSoftwareFoundation.Python.3.12_qbz5n2kfra8p0\\LocalCache\\local-packages\\Python312\\site-packages\\IPython\\core\\interactiveshell.py:325\u001b[39m, in \u001b[36m_modified_open\u001b[39m\u001b[34m(file, *args, **kwargs)\u001b[39m\n\u001b[32m    318\u001b[39m \u001b[38;5;28;01mif\u001b[39;00m file \u001b[38;5;129;01min\u001b[39;00m {\u001b[32m0\u001b[39m, \u001b[32m1\u001b[39m, \u001b[32m2\u001b[39m}:\n\u001b[32m    319\u001b[39m     \u001b[38;5;28;01mraise\u001b[39;00m \u001b[38;5;167;01mValueError\u001b[39;00m(\n\u001b[32m    320\u001b[39m         \u001b[33mf\u001b[39m\u001b[33m\"\u001b[39m\u001b[33mIPython won\u001b[39m\u001b[33m'\u001b[39m\u001b[33mt let you open fd=\u001b[39m\u001b[38;5;132;01m{\u001b[39;00mfile\u001b[38;5;132;01m}\u001b[39;00m\u001b[33m by default \u001b[39m\u001b[33m\"\u001b[39m\n\u001b[32m    321\u001b[39m         \u001b[33m\"\u001b[39m\u001b[33mas it is likely to crash IPython. If you know what you are doing, \u001b[39m\u001b[33m\"\u001b[39m\n\u001b[32m    322\u001b[39m         \u001b[33m\"\u001b[39m\u001b[33myou can use builtins\u001b[39m\u001b[33m'\u001b[39m\u001b[33m open.\u001b[39m\u001b[33m\"\u001b[39m\n\u001b[32m    323\u001b[39m     )\n\u001b[32m--> \u001b[39m\u001b[32m325\u001b[39m \u001b[38;5;28;01mreturn\u001b[39;00m \u001b[43mio_open\u001b[49m\u001b[43m(\u001b[49m\u001b[43mfile\u001b[49m\u001b[43m,\u001b[49m\u001b[43m \u001b[49m\u001b[43m*\u001b[49m\u001b[43margs\u001b[49m\u001b[43m,\u001b[49m\u001b[43m \u001b[49m\u001b[43m*\u001b[49m\u001b[43m*\u001b[49m\u001b[43mkwargs\u001b[49m\u001b[43m)\u001b[49m\n",
      "\u001b[31mFileNotFoundError\u001b[39m: [Errno 2] No such file or directory: 'data.csv'"
     ]
    }
   ],
   "source": [
    "from abc import ABC, abstractmethod\n",
    "import json\n",
    "import csv\n",
    "import xml.etree.ElementTree as ET\n",
    "\n",
    "class FileProcessor(ABC):\n",
    "    @abstractmethod\n",
    "    def read_file(self, filename):\n",
    "        pass\n",
    "\n",
    "    @abstractmethod\n",
    "    def process_data(self, data):\n",
    "        pass\n",
    "\n",
    "# Implement CSVProcessor, JSONProcessor, and XMLProcessor classes here\n",
    "class CSVProcessor(FileProcessor):\n",
    "    def read_file(self, filename):\n",
    "        with open(filename, newline='', encoding='utf-8') as file:\n",
    "            return list(csv.readlines())\n",
    "\n",
    "    def process_data(self, data):\n",
    "        return data\n",
    "\n",
    "class JSONProcessor(FileProcessor):\n",
    "   \n",
    "    def read_file(self, filename):\n",
    "        with open(filename, 'r', encoding='utf-8') as file:\n",
    "            return json.load(file)\n",
    "\n",
    "    def process_data(self, data):\n",
    "        return data\n",
    "    \n",
    "class XMLProcessor(FileProcessor):\n",
    "    def read_file(self, filename):\n",
    "        tree = ET.parse(filename)\n",
    "        return tree.getroot()\n",
    "\n",
    "    def process_data(self, data):\n",
    "        return data\n",
    "\n",
    "# Create a list of file processors and use them to read and process different file types\n",
    "filenames = {\n",
    "    \"CSVProcessor\": \"data.csv\",\n",
    "    \"JSONProcessor\": \"data.json\",\n",
    "    \"XMLProcessor\": \"data.xml\"\n",
    "}\n",
    "file_processors = [CSVProcessor(), JSONProcessor(), XMLProcessor()]\n",
    "for processor in file_processors:   \n",
    "    filename = filenames[processor.__class__.__name__] # Example filename\n",
    "    data = processor.read_file(filename)\n",
    "    processed_data = processor.process_data(data)\n",
    "    print(f\"Processed data from {filename}: {processed_data}\")\n"
   ]
  }
 ],
 "metadata": {
  "kernelspec": {
   "display_name": "Python 3",
   "language": "python",
   "name": "python3"
  },
  "language_info": {
   "codemirror_mode": {
    "name": "ipython",
    "version": 3
   },
   "file_extension": ".py",
   "mimetype": "text/x-python",
   "name": "python",
   "nbconvert_exporter": "python",
   "pygments_lexer": "ipython3",
   "version": "3.12.9"
  }
 },
 "nbformat": 4,
 "nbformat_minor": 2
}
